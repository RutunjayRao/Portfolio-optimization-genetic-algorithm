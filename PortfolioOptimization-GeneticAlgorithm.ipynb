{
 "cells": [
  {
   "cell_type": "markdown",
   "id": "d6178b6a",
   "metadata": {},
   "source": [
    "## Portfolio Optimization using Genetic Algorithm"
   ]
  },
  {
   "cell_type": "markdown",
   "id": "afe587d6",
   "metadata": {},
   "source": [
    "### Theoretical Approach for the Problem used:\n",
    "Firstly, the data for the monthly closing stock values of MRF, Infosys, Reliance, Coal India, SBI and Titan are combined into a single dataframe. Historical returns for different periods ranging from 3 months to 36 months are then calculated for each of the stocks. The next step is to define the genetic algorithm terms - Gene and Chromosome. Gene is a scalar, which represents a fraction of the total capital assigned to a stock, whereas a Chromosome is a 1D array consisting of a set of genes, i.e., fractions of total capital assigned to each stock. It is essential to ensure that the sum of each chromosome is equal to one.\n",
    "\n",
    "After defining the Gene and Chromosome, the next step is to generate an Initial Population, which is a 2D array consisting of randomly generated chromosomes. The fitness function is then defined, which calculates the Sharpe ratio, S. The Sharpe ratio is a measure that quantifies the performance of the portfolio by maximizing return and minimizing risk simultaneously. It is computed as the difference between the portfolio return and the risk-free rate, divided by the standard deviation of the returns. The fitness function uses the mean portfolio return, risk-free rate, and the standard deviation of the portfolio return to calculate the Sharpe ratio."
   ]
  },
  {
   "cell_type": "markdown",
   "id": "dd6608b1",
   "metadata": {},
   "source": [
    "### Importing Libraries"
   ]
  },
  {
   "cell_type": "code",
   "execution_count": 1,
   "id": "c6c65b21",
   "metadata": {},
   "outputs": [],
   "source": [
    "import numpy as np\n",
    "import pandas as pd\n",
    "from functools import reduce\n",
    "import matplotlib.pyplot as plt\n",
    "\n",
    "np.random.seed(213)"
   ]
  },
  {
   "cell_type": "markdown",
   "id": "9514df44",
   "metadata": {},
   "source": [
    "### Combine the data into a single dataframe after reading it."
   ]
  },
  {
   "cell_type": "code",
   "execution_count": 2,
   "id": "071ce57b",
   "metadata": {},
   "outputs": [
    {
     "name": "stdout",
     "output_type": "stream",
     "text": [
      "(37, 7)\n"
     ]
    },
    {
     "data": {
      "text/html": [
       "<div>\n",
       "<style scoped>\n",
       "    .dataframe tbody tr th:only-of-type {\n",
       "        vertical-align: middle;\n",
       "    }\n",
       "\n",
       "    .dataframe tbody tr th {\n",
       "        vertical-align: top;\n",
       "    }\n",
       "\n",
       "    .dataframe thead th {\n",
       "        text-align: right;\n",
       "    }\n",
       "</style>\n",
       "<table border=\"1\" class=\"dataframe\">\n",
       "  <thead>\n",
       "    <tr style=\"text-align: right;\">\n",
       "      <th></th>\n",
       "      <th>Date</th>\n",
       "      <th>MRF</th>\n",
       "      <th>INFOSYS</th>\n",
       "      <th>RELIANCE</th>\n",
       "      <th>COAL</th>\n",
       "      <th>SBI</th>\n",
       "      <th>TITAN</th>\n",
       "    </tr>\n",
       "  </thead>\n",
       "  <tbody>\n",
       "    <tr>\n",
       "      <th>0</th>\n",
       "      <td>June 2018</td>\n",
       "      <td>2108.05</td>\n",
       "      <td>266.05</td>\n",
       "      <td>1271.3</td>\n",
       "      <td>896.80</td>\n",
       "      <td>560.55</td>\n",
       "      <td>1847.20</td>\n",
       "    </tr>\n",
       "    <tr>\n",
       "      <th>1</th>\n",
       "      <td>May 2018</td>\n",
       "      <td>2136.15</td>\n",
       "      <td>271.60</td>\n",
       "      <td>1367.6</td>\n",
       "      <td>923.50</td>\n",
       "      <td>480.15</td>\n",
       "      <td>1744.80</td>\n",
       "    </tr>\n",
       "    <tr>\n",
       "      <th>2</th>\n",
       "      <td>Apr 2018</td>\n",
       "      <td>1944.60</td>\n",
       "      <td>281.45</td>\n",
       "      <td>1400.6</td>\n",
       "      <td>872.65</td>\n",
       "      <td>528.15</td>\n",
       "      <td>1765.70</td>\n",
       "    </tr>\n",
       "    <tr>\n",
       "      <th>3</th>\n",
       "      <td>Mar 2018</td>\n",
       "      <td>1891.45</td>\n",
       "      <td>255.90</td>\n",
       "      <td>1311.9</td>\n",
       "      <td>740.20</td>\n",
       "      <td>495.40</td>\n",
       "      <td>1424.65</td>\n",
       "    </tr>\n",
       "    <tr>\n",
       "      <th>4</th>\n",
       "      <td>Feb 2018</td>\n",
       "      <td>1883.80</td>\n",
       "      <td>265.10</td>\n",
       "      <td>1319.1</td>\n",
       "      <td>728.75</td>\n",
       "      <td>535.35</td>\n",
       "      <td>1519.13</td>\n",
       "    </tr>\n",
       "  </tbody>\n",
       "</table>\n",
       "</div>"
      ],
      "text/plain": [
       "        Date      MRF  INFOSYS  RELIANCE    COAL     SBI    TITAN\n",
       "0  June 2018  2108.05   266.05    1271.3  896.80  560.55  1847.20\n",
       "1   May 2018  2136.15   271.60    1367.6  923.50  480.15  1744.80\n",
       "2   Apr 2018  1944.60   281.45    1400.6  872.65  528.15  1765.70\n",
       "3   Mar 2018  1891.45   255.90    1311.9  740.20  495.40  1424.65\n",
       "4   Feb 2018  1883.80   265.10    1319.1  728.75  535.35  1519.13"
      ]
     },
     "execution_count": 2,
     "metadata": {},
     "output_type": "execute_result"
    }
   ],
   "source": [
    "files=['MRF.csv','INFOSYS.csv','RELIANCE.csv','COAL.csv','SBI.csv','TITAN.csv']\n",
    "dfs=[]\n",
    "for file in files:\n",
    "    temp=pd.read_csv(\"genetic_algo_data\\\\\" + file)\n",
    "    temp.columns=['Date',file.replace('.csv','')]\n",
    "    dfs.append(temp)\n",
    "stocks = reduce(lambda left,right: pd.merge(left,right,on='Date'), dfs)\n",
    "print(stocks.shape)\n",
    "stocks.head()"
   ]
  },
  {
   "cell_type": "markdown",
   "id": "7bea0b99",
   "metadata": {},
   "source": [
    "### Historical Returns for 3 months, 6 months, 12 months, 24 months and 36 months for each stock.\n",
    "\n",
    "The calculation for the overall return of a stock involves adding the increase in its price with any dividends distributed and then dividing it by the initial price of the stock."
   ]
  },
  {
   "cell_type": "code",
   "execution_count": 3,
   "id": "93562429",
   "metadata": {},
   "outputs": [
    {
     "data": {
      "text/html": [
       "<div>\n",
       "<style scoped>\n",
       "    .dataframe tbody tr th:only-of-type {\n",
       "        vertical-align: middle;\n",
       "    }\n",
       "\n",
       "    .dataframe tbody tr th {\n",
       "        vertical-align: top;\n",
       "    }\n",
       "\n",
       "    .dataframe thead th {\n",
       "        text-align: right;\n",
       "    }\n",
       "</style>\n",
       "<table border=\"1\" class=\"dataframe\">\n",
       "  <thead>\n",
       "    <tr style=\"text-align: right;\">\n",
       "      <th></th>\n",
       "      <th>MRF</th>\n",
       "      <th>INFOSYS</th>\n",
       "      <th>RELIANCE</th>\n",
       "      <th>COAL</th>\n",
       "      <th>SBI</th>\n",
       "      <th>TITAN</th>\n",
       "    </tr>\n",
       "  </thead>\n",
       "  <tbody>\n",
       "    <tr>\n",
       "      <th>3 Month Return</th>\n",
       "      <td>0.114515</td>\n",
       "      <td>0.039664</td>\n",
       "      <td>-0.030947</td>\n",
       "      <td>0.211564</td>\n",
       "      <td>0.13151</td>\n",
       "      <td>0.296599</td>\n",
       "    </tr>\n",
       "    <tr>\n",
       "      <th>6 Month Return</th>\n",
       "      <td>0.125163</td>\n",
       "      <td>0.011212</td>\n",
       "      <td>0.011417</td>\n",
       "      <td>0.194062</td>\n",
       "      <td>-0.017957</td>\n",
       "      <td>0.368094</td>\n",
       "    </tr>\n",
       "    <tr>\n",
       "      <th>12 Month Return</th>\n",
       "      <td>0.275866</td>\n",
       "      <td>-0.178478</td>\n",
       "      <td>0.129783</td>\n",
       "      <td>0.330899</td>\n",
       "      <td>0.010911</td>\n",
       "      <td>0.562537</td>\n",
       "    </tr>\n",
       "    <tr>\n",
       "      <th>24 Month Return</th>\n",
       "      <td>0.792712</td>\n",
       "      <td>0.084237</td>\n",
       "      <td>0.274461</td>\n",
       "      <td>0.255179</td>\n",
       "      <td>-0.265911</td>\n",
       "      <td>0.44833</td>\n",
       "    </tr>\n",
       "    <tr>\n",
       "      <th>36 Month Return</th>\n",
       "      <td>0.974847</td>\n",
       "      <td>0.266844</td>\n",
       "      <td>0.069614</td>\n",
       "      <td>0.399938</td>\n",
       "      <td>-0.358785</td>\n",
       "      <td>0.447535</td>\n",
       "    </tr>\n",
       "  </tbody>\n",
       "</table>\n",
       "</div>"
      ],
      "text/plain": [
       "                       MRF   INFOSYS  RELIANCE      COAL       SBI     TITAN\n",
       "3 Month Return    0.114515  0.039664 -0.030947  0.211564   0.13151  0.296599\n",
       "6 Month Return    0.125163  0.011212  0.011417  0.194062 -0.017957  0.368094\n",
       "12 Month Return   0.275866 -0.178478  0.129783  0.330899  0.010911  0.562537\n",
       "24 Month Return   0.792712  0.084237  0.274461  0.255179 -0.265911   0.44833\n",
       "36 Month Return   0.974847  0.266844  0.069614  0.399938 -0.358785  0.447535"
      ]
     },
     "execution_count": 3,
     "metadata": {},
     "output_type": "execute_result"
    }
   ],
   "source": [
    "def hist_return(months):\n",
    "    idx=[]\n",
    "    df=pd.DataFrame()\n",
    "    for mon in months:\n",
    "        temp=(stocks.iloc[0,1:] - stocks.iloc[mon,1:])/(stocks.iloc[mon,1:])\n",
    "        idx.append(str(mon)+' Month Return ')\n",
    "        df=pd.concat([df, temp.to_frame().T], ignore_index=True)\n",
    "    df.index=idx\n",
    "    return df    \n",
    "\n",
    "hist_stock_returns=hist_return([3,6,12,24,36])\n",
    "hist_stock_returns"
   ]
  },
  {
   "cell_type": "markdown",
   "id": "d2841e76",
   "metadata": {},
   "source": [
    "Define **Gene** (Scalar): A fraction of the total capital assigned to a stock. Lets address them as weights."
   ]
  },
  {
   "cell_type": "code",
   "execution_count": 4,
   "id": "6efd940b",
   "metadata": {},
   "outputs": [
    {
     "data": {
      "text/plain": [
       "0.2184265373924411"
      ]
     },
     "execution_count": 4,
     "metadata": {},
     "output_type": "execute_result"
    }
   ],
   "source": [
    "gene = np.random.rand()\n",
    "gene"
   ]
  },
  {
   "cell_type": "markdown",
   "id": "814951d1",
   "metadata": {},
   "source": [
    "Defining Chromosome (1D Array): Set of genes i.e. fractions of total capital assigned to each stock. Set of weights.\n",
    "\n",
    "It is a 1D array consisting of fractional values representing each stock, with the sum of all fractions not exceeding 1. To create a chromosome, we will generate 6 fractional values, one for each company stock.\n",
    "\n",
    "Why should the sum be equal to 1? This is because we assume that the total capital invested in the portfolio is 1 unit, and the fractional values represent the proportion of the total capital assigned to each stock.\n",
    "\n",
    "To ensure that the sum equals 1, we can generate 6 random numbers and calculate a factor that is equal to 1 divided by the sum of these random numbers. Finally, we can multiply each of the generated random numbers with this factor, which will result in a sum of 1."
   ]
  },
  {
   "cell_type": "code",
   "execution_count": 5,
   "id": "f60f1d5c",
   "metadata": {},
   "outputs": [
    {
     "name": "stdout",
     "output_type": "stream",
     "text": [
      "[0.21274846 0.21862272 0.13910761 0.1764979  0.16707693 0.08594639]\n",
      "Sum =  1.0\n"
     ]
    }
   ],
   "source": [
    "def chromosome(n):\n",
    "    ch = np.random.rand(n)\n",
    "    return ch/sum(ch)\n",
    "\n",
    "child=chromosome(6)\n",
    "print(child)\n",
    "print(\"Sum = \", sum(child))"
   ]
  },
  {
   "cell_type": "markdown",
   "id": "e133fc6b",
   "metadata": {},
   "source": [
    "Generating Initial Population"
   ]
  },
  {
   "cell_type": "code",
   "execution_count": 6,
   "id": "fcdc5564",
   "metadata": {},
   "outputs": [
    {
     "name": "stdout",
     "output_type": "stream",
     "text": [
      "(100, 6)\n"
     ]
    }
   ],
   "source": [
    "n=6 \n",
    "pop_size=100 \n",
    "\n",
    "population = np.array([chromosome(n) for _ in range(pop_size)])\n",
    "print(population.shape)"
   ]
  },
  {
   "cell_type": "markdown",
   "id": "94904055",
   "metadata": {},
   "source": [
    "The fitness function is defined as the Sharpe ratio, which measures the performance of the portfolio. It is calculated using the following formula:\n",
    "\n",
    "        S = (µ − r)/σ\n",
    "\n",
    "where µ is the mean portfolio return over a specified period, r is the risk-free rate over the same period, and σ is the standard deviation of the returns over the specified period.\n",
    "\n",
    "The mean portfolio return is calculated as the product of the mean return and the fractions of total capital assigned to each stock (chromosome).\n",
    "\n",
    "The risk-free rate is set to 0.0697 (as per Google).\n",
    "\n",
    "The standard deviation of the portfolio return is calculated as the square of the product of the chromosome and the standard deviation, plus the covariance of the respective weights in the chromosome.\n",
    "\n",
    "Calculating Mean, Standard deviation and covariance of the Historical stock returns."
   ]
  },
  {
   "cell_type": "code",
   "execution_count": 7,
   "id": "25351378",
   "metadata": {},
   "outputs": [],
   "source": [
    "cols=hist_stock_returns.columns\n",
    "hist_stock_returns[cols] = hist_stock_returns[cols].apply(pd.to_numeric, errors='coerce')"
   ]
  },
  {
   "cell_type": "markdown",
   "id": "fc8e50d4",
   "metadata": {},
   "source": [
    "Covariance of returns"
   ]
  },
  {
   "cell_type": "code",
   "execution_count": 8,
   "id": "08794db0",
   "metadata": {},
   "outputs": [
    {
     "data": {
      "text/html": [
       "<div>\n",
       "<style scoped>\n",
       "    .dataframe tbody tr th:only-of-type {\n",
       "        vertical-align: middle;\n",
       "    }\n",
       "\n",
       "    .dataframe tbody tr th {\n",
       "        vertical-align: top;\n",
       "    }\n",
       "\n",
       "    .dataframe thead th {\n",
       "        text-align: right;\n",
       "    }\n",
       "</style>\n",
       "<table border=\"1\" class=\"dataframe\">\n",
       "  <thead>\n",
       "    <tr style=\"text-align: right;\">\n",
       "      <th></th>\n",
       "      <th>MRF</th>\n",
       "      <th>INFOSYS</th>\n",
       "      <th>RELIANCE</th>\n",
       "      <th>COAL</th>\n",
       "      <th>SBI</th>\n",
       "      <th>TITAN</th>\n",
       "    </tr>\n",
       "  </thead>\n",
       "  <tbody>\n",
       "    <tr>\n",
       "      <th>MRF</th>\n",
       "      <td>0.000000</td>\n",
       "      <td>0.045393</td>\n",
       "      <td>0.027916</td>\n",
       "      <td>0.024127</td>\n",
       "      <td>-0.079078</td>\n",
       "      <td>0.014362</td>\n",
       "    </tr>\n",
       "    <tr>\n",
       "      <th>INFOSYS</th>\n",
       "      <td>0.045393</td>\n",
       "      <td>0.000000</td>\n",
       "      <td>-0.000718</td>\n",
       "      <td>0.004381</td>\n",
       "      <td>-0.023178</td>\n",
       "      <td>-0.005554</td>\n",
       "    </tr>\n",
       "    <tr>\n",
       "      <th>RELIANCE</th>\n",
       "      <td>0.027916</td>\n",
       "      <td>-0.000718</td>\n",
       "      <td>0.000000</td>\n",
       "      <td>0.002510</td>\n",
       "      <td>-0.013841</td>\n",
       "      <td>0.007330</td>\n",
       "    </tr>\n",
       "    <tr>\n",
       "      <th>COAL</th>\n",
       "      <td>0.024127</td>\n",
       "      <td>0.004381</td>\n",
       "      <td>0.002510</td>\n",
       "      <td>0.000000</td>\n",
       "      <td>-0.011042</td>\n",
       "      <td>0.005700</td>\n",
       "    </tr>\n",
       "    <tr>\n",
       "      <th>SBI</th>\n",
       "      <td>-0.079078</td>\n",
       "      <td>-0.023178</td>\n",
       "      <td>-0.013841</td>\n",
       "      <td>-0.011042</td>\n",
       "      <td>0.000000</td>\n",
       "      <td>-0.007211</td>\n",
       "    </tr>\n",
       "    <tr>\n",
       "      <th>TITAN</th>\n",
       "      <td>0.014362</td>\n",
       "      <td>-0.005554</td>\n",
       "      <td>0.007330</td>\n",
       "      <td>0.005700</td>\n",
       "      <td>-0.007211</td>\n",
       "      <td>0.000000</td>\n",
       "    </tr>\n",
       "  </tbody>\n",
       "</table>\n",
       "</div>"
      ],
      "text/plain": [
       "               MRF   INFOSYS  RELIANCE      COAL       SBI     TITAN\n",
       "MRF       0.000000  0.045393  0.027916  0.024127 -0.079078  0.014362\n",
       "INFOSYS   0.045393  0.000000 -0.000718  0.004381 -0.023178 -0.005554\n",
       "RELIANCE  0.027916 -0.000718  0.000000  0.002510 -0.013841  0.007330\n",
       "COAL      0.024127  0.004381  0.002510  0.000000 -0.011042  0.005700\n",
       "SBI      -0.079078 -0.023178 -0.013841 -0.011042  0.000000 -0.007211\n",
       "TITAN     0.014362 -0.005554  0.007330  0.005700 -0.007211  0.000000"
      ]
     },
     "execution_count": 8,
     "metadata": {},
     "output_type": "execute_result"
    }
   ],
   "source": [
    "cov_hist_return=hist_stock_returns.cov()\n",
    "for i in range(6):\n",
    "    cov_hist_return.iloc[i][i]=0\n",
    "    \n",
    "cov_hist_return"
   ]
  },
  {
   "cell_type": "markdown",
   "id": "29faa0ac",
   "metadata": {},
   "source": [
    "Mean of Returns"
   ]
  },
  {
   "cell_type": "code",
   "execution_count": 9,
   "id": "6ba1a5ee",
   "metadata": {},
   "outputs": [
    {
     "name": "stdout",
     "output_type": "stream",
     "text": [
      "MRF         0.456621\n",
      "INFOSYS     0.044696\n",
      "RELIANCE    0.090865\n",
      "COAL        0.278328\n",
      "SBI        -0.100047\n",
      "TITAN       0.424619\n",
      "dtype: float64\n"
     ]
    }
   ],
   "source": [
    "mean_hist_return=hist_stock_returns.mean()\n",
    "print (mean_hist_return)"
   ]
  },
  {
   "cell_type": "markdown",
   "id": "b3bfd1cd",
   "metadata": {},
   "source": [
    "Standard Deviation"
   ]
  },
  {
   "cell_type": "code",
   "execution_count": 10,
   "id": "77707386",
   "metadata": {},
   "outputs": [
    {
     "name": "stdout",
     "output_type": "stream",
     "text": [
      "MRF         0.400340\n",
      "INFOSYS     0.159583\n",
      "RELIANCE    0.119189\n",
      "COAL        0.086091\n",
      "SBI         0.204405\n",
      "TITAN       0.099615\n",
      "dtype: float64\n"
     ]
    }
   ],
   "source": [
    "sd_hist_return=hist_stock_returns.std()\n",
    "print (sd_hist_return)"
   ]
  },
  {
   "cell_type": "markdown",
   "id": "e34db872",
   "metadata": {},
   "source": [
    "### Calculating Expected Portfolio Return and Portfolio Variance:\n",
    "\n",
    "Expected Return"
   ]
  },
  {
   "cell_type": "code",
   "execution_count": 11,
   "id": "a32b5fe6",
   "metadata": {},
   "outputs": [
    {
     "name": "stdout",
     "output_type": "stream",
     "text": [
      "Expected Return =  0.22703800664335622\n",
      "Portfolio Variance =  0.009391646174417649\n"
     ]
    }
   ],
   "source": [
    "def mean_portfolio_return(child):\n",
    "    return np.sum(np.multiply(child,mean_hist_return))\n",
    "\n",
    "print(\"Expected Return = \", + mean_portfolio_return(population[0]))\n",
    "\n",
    "def var_portfolio_return(child):\n",
    "    part_1 = np.sum(np.multiply(child,sd_hist_return)**2)\n",
    "    temp_lst=[]\n",
    "    for i in range(6):\n",
    "        for j in range(6):\n",
    "            temp=cov_hist_return.iloc[i][j] * child[i] * child[j]\n",
    "            temp_lst.append(temp)\n",
    "    part_2=np.sum(temp_lst)\n",
    "    return part_1+part_2\n",
    "\n",
    "print(\"Portfolio Variance = \", + var_portfolio_return(population[0]))"
   ]
  },
  {
   "cell_type": "markdown",
   "id": "81addd0d",
   "metadata": {},
   "source": [
    "Fitness Function"
   ]
  },
  {
   "cell_type": "code",
   "execution_count": 12,
   "id": "540da803",
   "metadata": {},
   "outputs": [
    {
     "data": {
      "text/plain": [
       "0.9624719316364673"
      ]
     },
     "execution_count": 12,
     "metadata": {},
     "output_type": "execute_result"
    }
   ],
   "source": [
    "def fitness_fuction(child):\n",
    "    rf= 0.0697 \n",
    "    return (mean_portfolio_return(child)-rf)/np.sqrt(var_portfolio_return(child))\n",
    "\n",
    "fitness_fuction(population[7])"
   ]
  },
  {
   "cell_type": "markdown",
   "id": "11f8beb4",
   "metadata": {},
   "source": [
    "Defining a function that selects the elite population: it filters out the chromosomes with the highest returns, which were previously calculated in the fitness function."
   ]
  },
  {
   "cell_type": "code",
   "execution_count": 13,
   "id": "afa8ccef",
   "metadata": {},
   "outputs": [
    {
     "name": "stdout",
     "output_type": "stream",
     "text": [
      "30\n"
     ]
    },
    {
     "data": {
      "text/plain": [
       "[1.6235392128997435, 0.8112079699887221, 2.7144892701853713]"
      ]
     },
     "execution_count": 13,
     "metadata": {},
     "output_type": "execute_result"
    }
   ],
   "source": [
    "def Select_elite_population(population, frac=0.3):\n",
    "    population = sorted(population,key = lambda x: fitness_fuction(x),reverse=True)\n",
    "    percentage_elite_idx = int(np.floor(len(population)* frac))\n",
    "    return population[:percentage_elite_idx]\n",
    "\n",
    "print(len(Select_elite_population(population, frac=0.3)))\n",
    "\n",
    "[fitness_fuction(x) for x in population][:3]"
   ]
  },
  {
   "cell_type": "markdown",
   "id": "94424af3",
   "metadata": {},
   "source": [
    "The mutation function performs changes to a chromosome. It selects two random numbers between 0 and 5, and then swaps the corresponding elements in the chromosome."
   ]
  },
  {
   "cell_type": "code",
   "execution_count": 14,
   "id": "08878256",
   "metadata": {},
   "outputs": [
    {
     "data": {
      "text/plain": [
       "(array([0.33806557, 0.30934511, 0.14261774, 0.02814826, 0.12782655,\n",
       "        0.05399677]),\n",
       " array([0.33806557, 0.30934511, 0.12782655, 0.02814826, 0.14261774,\n",
       "        0.05399677]))"
      ]
     },
     "execution_count": 14,
     "metadata": {},
     "output_type": "execute_result"
    }
   ],
   "source": [
    "def mutation(parent):\n",
    "    child=parent.copy()\n",
    "    n=np.random.choice(range(6),2)\n",
    "    while (n[0]==n[1]):\n",
    "        n=np.random.choice(range(6),2)\n",
    "    child[n[0]],child[n[1]]=child[n[1]],child[n[0]]\n",
    "    return child\n",
    "\n",
    "mutation(population[1]),population[1]"
   ]
  },
  {
   "cell_type": "markdown",
   "id": "1cfb8f94",
   "metadata": {},
   "source": [
    "Crossover: The heuristic crossover, also known as blend crossover, uses the fitness values of two parent chromosomes to determine the direction of the search, moving from the worst parent to the best parent.\n",
    "\n",
    "The offspring are generated using the following equation:\n",
    "\n",
    "    Offspring A = Best Parent + β * (Best Parent − Worst Parent)\n",
    "    Offspring B = Worst Parent - β * (Best Parent − Worst Parent)\n",
    "\n",
    "Where β is a random number between 0 and 1. This type of crossover is effective for real-valued genomes."
   ]
  },
  {
   "cell_type": "code",
   "execution_count": 15,
   "id": "7618ed1c",
   "metadata": {},
   "outputs": [],
   "source": [
    "def Heuristic_crossover(parent1,parent2):\n",
    "    ff1=fitness_fuction(parent1)\n",
    "    ff2=fitness_fuction(parent2)\n",
    "    diff=parent1 - parent2\n",
    "    beta=np.random.rand()\n",
    "    if ff1>ff2:\n",
    "        child1=parent1 + beta * diff\n",
    "        child2=parent2 - beta * diff\n",
    "    else:\n",
    "        child2=parent1 + beta * diff\n",
    "        child1=parent2 - beta * diff\n",
    "    return child1,child2"
   ]
  },
  {
   "cell_type": "markdown",
   "id": "88a1e657",
   "metadata": {},
   "source": [
    "A function that creates a new generation of chromosomes by performing mutation, mating, or crossover based on a given probability."
   ]
  },
  {
   "cell_type": "code",
   "execution_count": 16,
   "id": "8f5b6255",
   "metadata": {},
   "outputs": [],
   "source": [
    "def next_generation(pop_size,elite,crossover=Heuristic_crossover):\n",
    "    new_population=[]\n",
    "    elite_range=range(len(elite))\n",
    "    while len(new_population) < pop_size:\n",
    "        if len(new_population) > 2*pop_size/3: \n",
    "            mutate_or_crossover = np.random.choice([0, 1], p=[0.9, 0.1])\n",
    "        else:\n",
    "            mutate_or_crossover = np.random.choice([0, 1], p=[0.6, 0.4])\n",
    "        if mutate_or_crossover:\n",
    "            indx=np.random.choice(elite_range)\n",
    "            new_population.append(mutation(elite[indx]))\n",
    "        else:\n",
    "            p1_idx,p2_idx=np.random.choice(elite_range,2)\n",
    "            c1,c2=crossover(elite[p1_idx],elite[p2_idx])\n",
    "            new_population.extend([c1,c2])\n",
    "    \n",
    "    for i in range(len(new_population)):\n",
    "        for j in range(6):\n",
    "            if new_population[i][j] < 0:\n",
    "                new_population[i][j] = 0\n",
    "            if new_population[i][j] > 0.25:\n",
    "                new_population[i][j] = 0.25\n",
    "\n",
    "    for i in range(len(new_population)):\n",
    "        temp = sum(new_population[i])\n",
    "        for j in range(6):\n",
    "            new_population[i][j] = new_population[i][j]/temp\n",
    "    \n",
    "    return new_population\n",
    "\n",
    "elite=Select_elite_population(population)"
   ]
  },
  {
   "cell_type": "markdown",
   "id": "1b2fd328",
   "metadata": {},
   "source": [
    "The process of mutation, crossover, and selection of the next generation is repeated until there is no improvement in the maximum returns or minimum risk, or for a fixed number of iterations."
   ]
  },
  {
   "cell_type": "code",
   "execution_count": 17,
   "id": "3b8e4ead",
   "metadata": {},
   "outputs": [
    {
     "name": "stdout",
     "output_type": "stream",
     "text": [
      "Iteration: 0\n",
      "Expected returns of 0.1647255259225422 with risk of 0.0005883255833192573\n",
      "\n",
      "Iteration: 1\n",
      "Expected returns of 0.1457191288821227 with risk of 0.00038860367623262584\n",
      "\n",
      "Iteration: 2\n",
      "Expected returns of 0.12129112534950803 with risk of 0.00013722067503819154\n",
      "\n",
      "Iteration: 3\n",
      "Expected returns of 0.13626724528012216 with risk of 0.00021337678736798368\n",
      "\n",
      "Iteration: 4\n",
      "Expected returns of 0.1305536916342295 with risk of 0.00014724973300781624\n",
      "\n",
      "Iteration: 5\n",
      "Expected returns of 0.13037369417577865 with risk of 0.0001637752677414719\n",
      "\n",
      "Iteration: 6\n",
      "Expected returns of 0.11786456060141648 with risk of 0.00013099600358106034\n",
      "\n",
      "Iteration: 7\n",
      "Expected returns of 0.15271949782557775 with risk of 0.00039713731143880583\n",
      "\n",
      "Iteration: 8\n",
      "Expected returns of 0.11810919886473972 with risk of 0.00012934885493966382\n",
      "\n",
      "Iteration: 9\n",
      "Expected returns of 0.14438914776424244 with risk of 0.0003198362014592759\n",
      "\n",
      "Iteration: 10\n",
      "Expected returns of 0.1526187305508163 with risk of 0.0004058638087353003\n",
      "\n",
      "Iteration: 11\n",
      "Expected returns of 0.15098670853951635 with risk of 0.0003855452095759635\n",
      "\n",
      "Iteration: 12\n",
      "Expected returns of 0.14406914322963965 with risk of 0.0002970172829077876\n",
      "\n",
      "Iteration: 13\n",
      "Expected returns of 0.14396070704275862 with risk of 0.0003013827863691011\n",
      "\n",
      "Iteration: 14\n",
      "Expected returns of 0.14483731481374557 with risk of 0.0003065686466393585\n",
      "\n",
      "Iteration: 15\n",
      "Expected returns of 0.1296500038543455 with risk of 0.00017015767671745355\n",
      "\n",
      "Iteration: 16\n",
      "Expected returns of 0.12839669175287033 with risk of 0.00016982167688239184\n",
      "\n",
      "Iteration: 17\n",
      "Expected returns of 0.13605099702133505 with risk of 0.00020991583998475078\n",
      "\n",
      "Iteration: 18\n",
      "Expected returns of 0.1291438450754363 with risk of 0.00015822020552609065\n",
      "\n",
      "Iteration: 19\n",
      "Expected returns of 0.1321909906958427 with risk of 0.00017589727140076162\n",
      "\n",
      "Iteration: 20\n",
      "Expected returns of 0.13226217325512188 with risk of 0.00017626049786750343\n",
      "\n",
      "Iteration: 21\n",
      "Expected returns of 0.12955461474856061 with risk of 0.00015949119599962917\n",
      "\n",
      "Iteration: 22\n",
      "Expected returns of 0.12830660523142262 with risk of 0.00015306542566452964\n",
      "\n",
      "Iteration: 23\n",
      "Expected returns of 0.12861916489493544 with risk of 0.0001569106686251055\n",
      "\n",
      "Iteration: 24\n",
      "Expected returns of 0.13144293936263618 with risk of 0.0001758553897742753\n",
      "\n",
      "Iteration: 25\n",
      "Expected returns of 0.1347640930173978 with risk of 0.00019570074024066048\n",
      "\n",
      "Iteration: 26\n",
      "Expected returns of 0.13289915925627344 with risk of 0.00018088817937682647\n",
      "\n",
      "Iteration: 27\n",
      "Expected returns of 0.13213047887223614 with risk of 0.00017535153096933168\n",
      "\n",
      "Iteration: 28\n",
      "Expected returns of 0.1311919760840513 with risk of 0.00016922063392104704\n",
      "\n",
      "Iteration: 29\n",
      "Expected returns of 0.12950895003112356 with risk of 0.0001592592692372108\n",
      "\n",
      "Iteration: 30\n",
      "Expected returns of 0.1310054361137472 with risk of 0.00016827581046810914\n",
      "\n",
      "Iteration: 31\n",
      "Expected returns of 0.13053167081587813 with risk of 0.0001651814694658138\n",
      "\n",
      "Iteration: 32\n",
      "Expected returns of 0.12994860352652515 with risk of 0.00016305347544081847\n",
      "\n",
      "Iteration: 33\n",
      "Expected returns of 0.13206052440530314 with risk of 0.00017543963850340238\n",
      "\n",
      "Iteration: 34\n",
      "Expected returns of 0.1313336554711576 with risk of 0.0001721890812838257\n",
      "\n",
      "Iteration: 35\n",
      "Expected returns of 0.1318658844933602 with risk of 0.00017649573434593523\n",
      "\n",
      "Iteration: 36\n",
      "Expected returns of 0.1328151380988149 with risk of 0.00018418339921811872\n",
      "\n",
      "Iteration: 37\n",
      "Expected returns of 0.13404397606715887 with risk of 0.00019354711125250598\n",
      "\n",
      "Iteration: 38\n",
      "Expected returns of 0.13479802032797883 with risk of 0.00019992118021767372\n",
      "\n",
      "Iteration: 39\n",
      "Expected returns of 0.1348150914393293 with risk of 0.00020151923707884076\n",
      "\n",
      "Iteration: 40\n",
      "Expected returns of 0.13536633757071623 with risk of 0.00020625291050522208\n",
      "\n",
      "Iteration: 41\n",
      "Expected returns of 0.13591587269780955 with risk of 0.00021097944471332088\n",
      "\n",
      "Iteration: 42\n",
      "Expected returns of 0.13638377560310677 with risk of 0.00021526441170607608\n",
      "\n",
      "Iteration: 43\n",
      "Expected returns of 0.136555342932829 with risk of 0.00021741190019740602\n",
      "\n",
      "Iteration: 44\n",
      "Expected returns of 0.13643104995965805 with risk of 0.00021724597163914807\n",
      "\n",
      "Iteration: 45\n",
      "Expected returns of 0.13679221066988678 with risk of 0.0002202696985147438\n",
      "\n",
      "Iteration: 46\n",
      "Expected returns of 0.13622120424375223 with risk of 0.00021700710712519583\n",
      "\n",
      "Iteration: 47\n",
      "Expected returns of 0.13683556543630568 with risk of 0.00022133487814771004\n",
      "\n",
      "Iteration: 48\n",
      "Expected returns of 0.13675724512812365 with risk of 0.0002212079381541882\n",
      "\n",
      "Iteration: 49\n",
      "Expected returns of 0.1366882716359583 with risk of 0.00022099712305007155\n",
      "\n",
      "Iteration: 50\n",
      "Expected returns of 0.13670989044522852 with risk of 0.00022134205306762345\n",
      "\n",
      "Iteration: 51\n",
      "Expected returns of 0.1365166273812569 with risk of 0.00022024250074095895\n",
      "\n",
      "Iteration: 52\n",
      "Expected returns of 0.13679693522776326 with risk of 0.00022220364856288203\n",
      "\n",
      "Iteration: 53\n",
      "Expected returns of 0.13681667463294636 with risk of 0.00022255604512591478\n",
      "\n",
      "Iteration: 54\n",
      "Expected returns of 0.13680056290649908 with risk of 0.00022253194232659586\n",
      "\n",
      "Iteration: 55\n",
      "Expected returns of 0.13694238680385615 with risk of 0.00022351477788862782\n",
      "\n",
      "Iteration: 56\n",
      "Expected returns of 0.136855763290718 with risk of 0.0002230453595626885\n",
      "\n",
      "Iteration: 57\n",
      "Expected returns of 0.13759237874813843 with risk of 0.0002280486823584135\n",
      "\n",
      "Iteration: 58\n",
      "Expected returns of 0.13752866357064322 with risk of 0.00022765220469950654\n",
      "\n",
      "Iteration: 59\n",
      "Expected returns of 0.13759990636329542 with risk of 0.00022815885563932936\n",
      "\n",
      "Iteration: 60\n",
      "Expected returns of 0.13758699343699426 with risk of 0.00022808585558791068\n",
      "\n",
      "Iteration: 61\n",
      "Expected returns of 0.13763949612020343 with risk of 0.00022846369932608915\n",
      "\n",
      "Iteration: 62\n",
      "Expected returns of 0.1376702922699415 with risk of 0.00022869350983114028\n",
      "\n",
      "Iteration: 63\n",
      "Expected returns of 0.13764001702383646 with risk of 0.00022851095480936386\n",
      "\n",
      "Iteration: 64\n",
      "Expected returns of 0.13767323419134275 with risk of 0.00022874942475668673\n",
      "\n",
      "Iteration: 65\n",
      "Expected returns of 0.13776064479142236 with risk of 0.00022936021469002234\n",
      "\n",
      "Iteration: 66\n",
      "Expected returns of 0.13768929253182316 with risk of 0.00022890227191060299\n",
      "\n",
      "Iteration: 67\n",
      "Expected returns of 0.1374202596724412 with risk of 0.00022710956583822488\n",
      "\n",
      "Iteration: 68\n",
      "Expected returns of 0.137420767477957 with risk of 0.00022711945198693358\n",
      "\n",
      "Iteration: 69\n",
      "Expected returns of 0.13741470889501048 with risk of 0.00022708321673184807\n",
      "\n",
      "Iteration: 70\n",
      "Expected returns of 0.13743046302691117 with risk of 0.00022719211516536615\n",
      "\n",
      "Iteration: 71\n",
      "Expected returns of 0.13743068917113488 with risk of 0.00022719651514836216\n",
      "\n",
      "Iteration: 72\n",
      "Expected returns of 0.1374308587839832 with risk of 0.00022719981543527484\n",
      "\n",
      "Iteration: 73\n",
      "Expected returns of 0.13746416278290535 with risk of 0.00022742487564994616\n",
      "\n",
      "Iteration: 74\n",
      "Expected returns of 0.13745674369472916 with risk of 0.000227376073886211\n",
      "\n",
      "Iteration: 75\n",
      "Expected returns of 0.13745191144900193 with risk of 0.00022734454571576336\n",
      "\n",
      "Iteration: 76\n",
      "Expected returns of 0.1374547392887352 with risk of 0.0002273641313599757\n",
      "\n",
      "Iteration: 77\n",
      "Expected returns of 0.13745663675948216 with risk of 0.00022737730334466532\n",
      "\n",
      "Iteration: 78\n",
      "Expected returns of 0.13745900934876212 with risk of 0.00022739356031325608\n",
      "\n",
      "Iteration: 79\n",
      "Expected returns of 0.1374603607431764 with risk of 0.00022740288078342778\n",
      "\n",
      "Iteration: 80\n",
      "Expected returns of 0.13746275607793182 with risk of 0.00022741913395348933\n",
      "\n",
      "Iteration: 81\n",
      "Expected returns of 0.13746375950091771 with risk of 0.0002274259871183149\n",
      "\n",
      "Iteration: 82\n",
      "Expected returns of 0.13746170866102894 with risk of 0.00022741234109033542\n",
      "\n",
      "Iteration: 83\n",
      "Expected returns of 0.1374616244974039 with risk of 0.00022741187550522155\n",
      "\n",
      "Iteration: 84\n",
      "Expected returns of 0.13746154636605498 with risk of 0.00022741143665053806\n",
      "\n",
      "Iteration: 85\n",
      "Expected returns of 0.13746607133856675 with risk of 0.00022744187924307168\n",
      "\n",
      "Iteration: 86\n",
      "Expected returns of 0.13746762424152212 with risk of 0.00022745235776045793\n",
      "\n",
      "Iteration: 87\n",
      "Expected returns of 0.13746228681080358 with risk of 0.00022741657170643591\n",
      "\n",
      "Iteration: 88\n",
      "Expected returns of 0.13746811345456786 with risk of 0.0002274557196706101\n",
      "\n",
      "Iteration: 89\n",
      "Expected returns of 0.13746791504330624 with risk of 0.00022745441326695991\n",
      "\n",
      "Iteration: 90\n",
      "Expected returns of 0.13746432003165665 with risk of 0.00022743030006060292\n",
      "\n",
      "Iteration: 91\n"
     ]
    },
    {
     "name": "stdout",
     "output_type": "stream",
     "text": [
      "Expected returns of 0.137464326196039 with risk of 0.00022743035498665187\n",
      "\n",
      "Iteration: 92\n",
      "Expected returns of 0.13746440382267575 with risk of 0.00022743088576065735\n",
      "\n",
      "Iteration: 93\n",
      "Expected returns of 0.13746455840728564 with risk of 0.00022743193016806513\n",
      "\n",
      "Iteration: 94\n",
      "Expected returns of 0.13746411164697114 with risk of 0.00022742893655020371\n",
      "\n",
      "Iteration: 95\n",
      "Expected returns of 0.1374635617238612 with risk of 0.0002274252497826111\n",
      "\n",
      "Iteration: 96\n",
      "Expected returns of 0.13746378077395316 with risk of 0.00022742672330993124\n",
      "\n",
      "Iteration: 97\n",
      "Expected returns of 0.13746292601719987 with risk of 0.0002274209886807101\n",
      "\n",
      "Iteration: 98\n",
      "Expected returns of 0.13746472708150304 with risk of 0.00022743308042512227\n",
      "\n",
      "Iteration: 99\n",
      "Expected returns of 0.13746511979798215 with risk of 0.00022743571810380104\n",
      "\n",
      "Iteration: 100\n",
      "Expected returns of 0.13746514674698407 with risk of 0.00022743590030867202\n",
      "\n",
      "Optimal Solution Reached or Number of Maximum Iterations Reached\n"
     ]
    }
   ],
   "source": [
    "n=6 \n",
    "pop_size=100 \n",
    "population = np.array([chromosome(n) for _ in range(pop_size)])\n",
    "\n",
    "elite = Select_elite_population(population)\n",
    "\n",
    "iteration=0 \n",
    "Expected_returns=0\n",
    "Expected_risk=1\n",
    "flag = 0\n",
    "\n",
    "returns_list = []\n",
    "risk_list = []\n",
    "\n",
    "while (( (Expected_returns < 0.30 and Expected_risk > 0.0005) or iteration <= 100 ) and flag == 0):\n",
    "    print('Iteration:',iteration)\n",
    "    population = next_generation(100,elite)\n",
    "    elite = Select_elite_population(population)\n",
    "    Expected_returns=mean_portfolio_return(elite[0])\n",
    "    Expected_risk=var_portfolio_return(elite[0])\n",
    "    print('Expected returns of {} with risk of {}\\n'.format(Expected_returns,Expected_risk))\n",
    "    iteration+=1\n",
    "    returns_list.append(Expected_returns)\n",
    "    risk_list.append(Expected_risk)\n",
    "    if(iteration==101):\n",
    "        flag = 1\n",
    "\n",
    "print('Optimal Solution Reached or Number of Maximum Iterations Reached')"
   ]
  },
  {
   "cell_type": "markdown",
   "id": "5d13de18",
   "metadata": {},
   "source": [
    "Weights and their returns"
   ]
  },
  {
   "cell_type": "code",
   "execution_count": 18,
   "id": "76b0c7d9",
   "metadata": {},
   "outputs": [
    {
     "name": "stdout",
     "output_type": "stream",
     "text": [
      "Weight allotted to each stock under the constraints applied:\n",
      "\n",
      "MRF : 0.0\n",
      "INFOSYS : 0.2500000024536635\n",
      "RELIANCE : 0.1303405189095002\n",
      "COAL : 0.11965947372950926\n",
      "SBI : 0.2500000024536635\n",
      "TITAN : 0.2500000024536635\n",
      "\n",
      "Expected returns of 13.746514674698407 % with risk of 0.00022743590030867202\n",
      " \n",
      "Fitness Function Value =  4.4934185473549375\n"
     ]
    },
    {
     "data": {
      "image/png": "[encoded data removed]",
      "text/plain": [
       "<Figure size 792x792 with 1 Axes>"
      ]
     },
     "metadata": {},
     "output_type": "display_data"
    },
    {
     "data": {
      "image/png": "[encoded data removed]",
      "text/plain": [
       "<Figure size 432x288 with 1 Axes>"
      ]
     },
     "metadata": {
      "needs_background": "light"
     },
     "output_type": "display_data"
    }
   ],
   "source": [
    "print('Weight allotted to each stock under the constraints applied:\\n')\n",
    "[print(hist_stock_returns.columns[i],':',elite[0][i]) for i in list(range(6))]\n",
    "\n",
    "print('\\nExpected returns of {} % with risk of {}\\n '.format(Expected_returns*100,Expected_risk))\n",
    "\n",
    "print(\"Fitness Function Value = \", + fitness_fuction(elite[5]))\n",
    "\n",
    "plt.figure(figsize = (11,11))\n",
    "plt.pie(elite[0], labels = hist_stock_returns.columns)\n",
    "plt.legend()\n",
    "plt.show()\n",
    "\n",
    "plt.scatter(risk_list, returns_list)\n",
    "plt.ylabel('Expected Returns')\n",
    "plt.xlabel('Expected Risk')\n",
    "plt.title('Portfolio Optimization')\n",
    "plt.show()"
   ]
  },
  {
   "cell_type": "markdown",
   "id": "d3d39a6e",
   "metadata": {},
   "source": [
    "The given process involves the creation of two offspring, represented as one-dimensional arrays, from two parent arrays. The offspring arrays are created using the following equations:\n",
    "\n",
    "Offspring A = α * Parent1 + (1 - α) * Parent2\n",
    "\n",
    "Offspring B = (1 - α) * Parent1 + α * Parent2\n",
    "\n",
    "Here, the value of α is a randomly generated number between 0 and 1. The input to this process is two parent arrays, and the output is two offspring arrays, each represented as a one-dimensional array."
   ]
  },
  {
   "cell_type": "code",
   "execution_count": 19,
   "id": "0e4ae63f",
   "metadata": {},
   "outputs": [],
   "source": [
    "def Arithmetic_crossover(parent1,parent2):\n",
    "    alpha = np.random.rand()\n",
    "    child1 = alpha * parent1 + (1-alpha) * parent2\n",
    "    child2 = (1-alpha) * parent1 + alpha * parent2\n",
    "    return child1,child2"
   ]
  },
  {
   "cell_type": "code",
   "execution_count": 20,
   "id": "8f7982c6",
   "metadata": {},
   "outputs": [
    {
     "data": {
      "text/plain": [
       "[array([0.        , 0.25      , 0.13034318, 0.11965682, 0.25      ,\n",
       "        0.25      ]),\n",
       " array([0.        , 0.25      , 0.13034151, 0.11965849, 0.25      ,\n",
       "        0.25      ]),\n",
       " array([0.        , 0.25      , 0.13034239, 0.1196576 , 0.25      ,\n",
       "        0.25      ])]"
      ]
     },
     "execution_count": 20,
     "metadata": {},
     "output_type": "execute_result"
    }
   ],
   "source": [
    "Arithmetic_crossover(population[2],population[3])\n",
    "elite=Select_elite_population(population)\n",
    "next_generation(100,elite,Arithmetic_crossover)[:3]"
   ]
  },
  {
   "cell_type": "code",
   "execution_count": 21,
   "id": "2a63baa5",
   "metadata": {},
   "outputs": [
    {
     "name": "stdout",
     "output_type": "stream",
     "text": [
      "Iteration: 0\n",
      "Expected returns of 0.1723873410778412 with risk of 0.0007008506650635011\n",
      "\n",
      "Iteration: 1\n",
      "Expected returns of 0.17321552489901837 with risk of 0.0007633341893468135\n",
      "\n",
      "Iteration: 2\n",
      "Expected returns of 0.17566137736325688 with risk of 0.0007785159863450113\n",
      "\n",
      "Iteration: 3\n",
      "Expected returns of 0.1784214980994028 with risk of 0.0008197623171117257\n",
      "\n",
      "Iteration: 4\n",
      "Expected returns of 0.1777087423356016 with risk of 0.0008069669914216471\n",
      "\n",
      "Iteration: 5\n",
      "Expected returns of 0.17324298657355175 with risk of 0.0007345326107475406\n",
      "\n",
      "Iteration: 6\n",
      "Expected returns of 0.17556197104868432 with risk of 0.0007706113274808836\n",
      "\n",
      "Iteration: 7\n",
      "Expected returns of 0.17406683902259557 with risk of 0.0007472982990769737\n",
      "\n",
      "Iteration: 8\n",
      "Expected returns of 0.1741593620906317 with risk of 0.0007476910299046837\n",
      "\n",
      "Iteration: 9\n",
      "Expected returns of 0.17396080962508365 with risk of 0.0007445907885447172\n",
      "\n",
      "Iteration: 10\n",
      "Expected returns of 0.17418066491985978 with risk of 0.0007483754701209889\n",
      "\n",
      "Iteration: 11\n",
      "Expected returns of 0.17408125846065908 with risk of 0.0007471104175145607\n",
      "\n",
      "Iteration: 12\n",
      "Expected returns of 0.1739999722284249 with risk of 0.0007461207931766488\n",
      "\n",
      "Iteration: 13\n",
      "Expected returns of 0.17394135252911483 with risk of 0.0007454478590780472\n",
      "\n",
      "Iteration: 14\n",
      "Expected returns of 0.1739002822101653 with risk of 0.0007450091991559032\n",
      "\n",
      "Iteration: 15\n",
      "Expected returns of 0.1738629730110512 with risk of 0.0007445941585192727\n",
      "\n",
      "Iteration: 16\n",
      "Expected returns of 0.17383920902177785 with risk of 0.0007443509140956026\n",
      "\n",
      "Iteration: 17\n",
      "Expected returns of 0.1738204907556466 with risk of 0.0007441579311080297\n",
      "\n",
      "Iteration: 18\n",
      "Expected returns of 0.17380589574978747 with risk of 0.0007440067632232374\n",
      "\n",
      "Iteration: 19\n",
      "Expected returns of 0.17379493068115248 with risk of 0.0007438941966296155\n",
      "\n",
      "Iteration: 20\n",
      "Expected returns of 0.17378669233051097 with risk of 0.000743810067887294\n",
      "\n",
      "Iteration: 21\n",
      "Expected returns of 0.17378049756316488 with risk of 0.0007437470627913497\n",
      "\n",
      "Iteration: 22\n",
      "Expected returns of 0.17377583400117996 with risk of 0.000743699752995426\n",
      "\n",
      "Iteration: 23\n",
      "Expected returns of 0.1737723610484878 with risk of 0.0007436647443992686\n",
      "\n",
      "Iteration: 24\n",
      "Expected returns of 0.1737697244040537 with risk of 0.0007436380874565971\n",
      "\n",
      "Iteration: 25\n",
      "Expected returns of 0.17376773999554007 with risk of 0.0007436180343813369\n",
      "\n",
      "Iteration: 26\n",
      "Expected returns of 0.17376626599700962 with risk of 0.0007436032159998992\n",
      "\n",
      "Iteration: 27\n",
      "Expected returns of 0.17376515843354198 with risk of 0.0007435920838322393\n",
      "\n",
      "Iteration: 28\n",
      "Expected returns of 0.17376432777518536 with risk of 0.0007435837411814304\n",
      "\n",
      "Iteration: 29\n",
      "Expected returns of 0.17376370686038753 with risk of 0.0007435775174297853\n",
      "\n",
      "Iteration: 30\n",
      "Expected returns of 0.17376323997185938 with risk of 0.0007435728344016949\n",
      "\n",
      "Iteration: 31\n",
      "Expected returns of 0.1737629117665433 with risk of 0.0007435696370806533\n",
      "\n",
      "Iteration: 32\n",
      "Expected returns of 0.17376265105250172 with risk of 0.0007435670316353043\n",
      "\n",
      "Iteration: 33\n",
      "Expected returns of 0.17376245372629928 with risk of 0.000743565052314623\n",
      "\n",
      "Iteration: 34\n",
      "Expected returns of 0.1737623055462747 with risk of 0.0007435635653729334\n",
      "\n",
      "Iteration: 35\n",
      "Expected returns of 0.17376219456554795 with risk of 0.0007435624524829466\n",
      "\n",
      "Iteration: 36\n",
      "Expected returns of 0.1737621113841341 with risk of 0.0007435616186519103\n",
      "\n",
      "Iteration: 37\n",
      "Expected returns of 0.17376204883312957 with risk of 0.0007435609909567679\n",
      "\n",
      "Iteration: 38\n",
      "Expected returns of 0.17376200203682574 with risk of 0.0007435605218765497\n",
      "\n",
      "Iteration: 39\n",
      "Expected returns of 0.1737619669333731 with risk of 0.0007435601699886151\n",
      "\n",
      "Iteration: 40\n",
      "Expected returns of 0.17376194060774156 with risk of 0.0007435599061069312\n",
      "\n",
      "Iteration: 41\n",
      "Expected returns of 0.17376192086452147 with risk of 0.0007435597082135455\n",
      "\n",
      "Iteration: 42\n",
      "Expected returns of 0.17376190605567218 with risk of 0.0007435595597750028\n",
      "\n",
      "Iteration: 43\n",
      "Expected returns of 0.17376189495059574 with risk of 0.0007435594484695137\n",
      "\n",
      "Iteration: 44\n",
      "Expected returns of 0.1737618866214881 with risk of 0.0007435593649867348\n",
      "\n",
      "Iteration: 45\n",
      "Expected returns of 0.1737618803742203 with risk of 0.0007435593023687598\n",
      "\n",
      "Iteration: 46\n",
      "Expected returns of 0.1737618756893206 with risk of 0.0007435592554133532\n",
      "\n",
      "Iteration: 47\n",
      "Expected returns of 0.17376187217527994 with risk of 0.0007435592201916821\n",
      "\n",
      "Iteration: 48\n",
      "Expected returns of 0.17376186954053108 with risk of 0.0007435591937866607\n",
      "\n",
      "Iteration: 49\n",
      "Expected returns of 0.17376186756413414 with risk of 0.0007435591739781387\n",
      "\n",
      "Iteration: 50\n",
      "Expected returns of 0.17376186608154898 with risk of 0.0007435591591176604\n",
      "\n",
      "Iteration: 51\n",
      "Expected returns of 0.1737618649700336 with risk of 0.0007435591479783635\n",
      "\n",
      "Iteration: 52\n",
      "Expected returns of 0.1737618641362213 with risk of 0.000743559139621386\n",
      "\n",
      "Iteration: 53\n",
      "Expected returns of 0.17376186351091344 with risk of 0.0007435591333543896\n",
      "\n",
      "Iteration: 54\n",
      "Expected returns of 0.17376186304183033 with risk of 0.0007435591286526844\n",
      "\n",
      "Iteration: 55\n",
      "Expected returns of 0.17376186269010374 with risk of 0.0007435591251276318\n",
      "\n",
      "Iteration: 56\n",
      "Expected returns of 0.17376186242629166 with risk of 0.0007435591224835983\n",
      "\n",
      "Iteration: 57\n",
      "Expected returns of 0.17376186222840717 with risk of 0.00074355912050021\n",
      "\n",
      "Iteration: 58\n",
      "Expected returns of 0.17376186208003674 with risk of 0.0007435591190132823\n",
      "\n",
      "Iteration: 59\n",
      "Expected returns of 0.17376186196869794 with risk of 0.000743559117897215\n",
      "\n",
      "Iteration: 60\n",
      "Expected returns of 0.1737618618852345 with risk of 0.0007435591170607469\n",
      "\n",
      "Iteration: 61\n",
      "Expected returns of 0.17376186182262582 with risk of 0.0007435591164332359\n",
      "\n",
      "Iteration: 62\n",
      "Expected returns of 0.1737618617756717 with risk of 0.0007435591159626375\n",
      "\n",
      "Iteration: 63\n",
      "Expected returns of 0.17376186174045233 with risk of 0.0007435591156096343\n",
      "\n",
      "Iteration: 64\n",
      "Expected returns of 0.17376186171403518 with risk of 0.0007435591153448452\n",
      "\n",
      "Iteration: 65\n",
      "Expected returns of 0.17376186169423052 with risk of 0.0007435591151463711\n",
      "\n",
      "Iteration: 66\n",
      "Expected returns of 0.17376186167937394 with risk of 0.0007435591149974694\n",
      "\n",
      "Iteration: 67\n",
      "Expected returns of 0.1737618616682305 with risk of 0.0007435591148857792\n",
      "\n",
      "Iteration: 68\n",
      "Expected returns of 0.17376186165987287 with risk of 0.0007435591148020129\n",
      "\n",
      "Iteration: 69\n",
      "Expected returns of 0.17376186165360397 with risk of 0.000743559114739176\n",
      "\n",
      "Iteration: 70\n",
      "Expected returns of 0.17376186164890245 with risk of 0.0007435591146920523\n",
      "\n",
      "Iteration: 71\n",
      "Expected returns of 0.17376186164537813 with risk of 0.000743559114656735\n",
      "\n",
      "Iteration: 72\n",
      "Expected returns of 0.17376186164273366 with risk of 0.0007435591146302285\n",
      "\n",
      "Iteration: 73\n",
      "Expected returns of 0.1737618616407498 with risk of 0.0007435591146103425\n",
      "\n",
      "Iteration: 74\n",
      "Expected returns of 0.17376186163926366 with risk of 0.0007435591145954525\n",
      "\n",
      "Iteration: 75\n",
      "Expected returns of 0.1737618616381468 with risk of 0.0007435591145842531\n",
      "\n",
      "Iteration: 76\n",
      "Expected returns of 0.17376186163731022 with risk of 0.0007435591145758692\n",
      "\n",
      "Iteration: 77\n",
      "Expected returns of 0.1737618616366829 with risk of 0.0007435591145695825\n",
      "\n",
      "Iteration: 78\n",
      "Expected returns of 0.17376186163621277 with risk of 0.0007435591145648728\n",
      "\n",
      "Iteration: 79\n",
      "Expected returns of 0.17376186163585952 with risk of 0.0007435591145613304\n",
      "\n",
      "Iteration: 80\n",
      "Expected returns of 0.17376186163559504 with risk of 0.0007435591145586798\n",
      "\n",
      "Iteration: 81\n",
      "Expected returns of 0.17376186163539653 with risk of 0.0007435591145566909\n",
      "\n",
      "Iteration: 82\n",
      "Expected returns of 0.17376186163524748 with risk of 0.0007435591145551965\n",
      "\n",
      "Iteration: 83\n",
      "Expected returns of 0.17376186163513574 with risk of 0.0007435591145540767\n",
      "\n",
      "Iteration: 84\n",
      "Expected returns of 0.17376186163505208 with risk of 0.0007435591145532388\n",
      "\n",
      "Iteration: 85\n",
      "Expected returns of 0.1737618616349892 with risk of 0.0007435591145526074\n",
      "\n",
      "Iteration: 86\n",
      "Expected returns of 0.17376186163494217 with risk of 0.0007435591145521373\n",
      "\n",
      "Iteration: 87\n",
      "Expected returns of 0.1737618616349067 with risk of 0.0007435591145517808\n",
      "\n",
      "Iteration: 88\n",
      "Expected returns of 0.17376186163488033 with risk of 0.0007435591145515171\n",
      "\n",
      "Iteration: 89\n",
      "Expected returns of 0.17376186163486046 with risk of 0.0007435591145513176\n",
      "\n",
      "Iteration: 90\n",
      "Expected returns of 0.1737618616348455 with risk of 0.0007435591145511684\n",
      "\n",
      "Iteration: 91\n",
      "Expected returns of 0.17376186163483434 with risk of 0.0007435591145510557\n",
      "\n",
      "Iteration: 92\n",
      "Expected returns of 0.17376186163482593 with risk of 0.0007435591145509741\n",
      "\n",
      "Iteration: 93\n"
     ]
    },
    {
     "name": "stdout",
     "output_type": "stream",
     "text": [
      "Expected returns of 0.17376186163481966 with risk of 0.0007435591145509091\n",
      "\n",
      "Iteration: 94\n",
      "Expected returns of 0.17376186163481494 with risk of 0.0007435591145508623\n",
      "\n",
      "Iteration: 95\n",
      "Expected returns of 0.1737618616348114 with risk of 0.0007435591145508276\n",
      "\n",
      "Iteration: 96\n",
      "Expected returns of 0.17376186163480872 with risk of 0.0007435591145508007\n",
      "\n",
      "Iteration: 97\n",
      "Expected returns of 0.17376186163480678 with risk of 0.0007435591145507825\n",
      "\n",
      "Iteration: 98\n",
      "Expected returns of 0.17376186163480528 with risk of 0.000743559114550766\n",
      "\n",
      "Iteration: 99\n",
      "Expected returns of 0.17376186163480417 with risk of 0.0007435591145507538\n",
      "\n",
      "Iteration: 100\n",
      "Expected returns of 0.17376186163480328 with risk of 0.0007435591145507469\n",
      "\n",
      "Optimal Solution Reached or Number of Maximum Iterations Reached\n"
     ]
    }
   ],
   "source": [
    "n=6 \n",
    "pop_size=100 \n",
    "population = np.array([chromosome(n) for _ in range(pop_size)])\n",
    "elite = Select_elite_population(population)\n",
    "\n",
    "iteration=0 \n",
    "Expected_returns=0\n",
    "Expected_risk=1\n",
    "\n",
    "returns_list = []\n",
    "risk_list = []\n",
    "\n",
    "while ( (Expected_returns < 0.30 and Expected_risk > 0.0005) and iteration <= 100 ):\n",
    "    print('Iteration:',iteration)\n",
    "    population = next_generation(100,elite, Arithmetic_crossover)\n",
    "    elite = Select_elite_population(population)\n",
    "    Expected_returns=mean_portfolio_return(elite[0])\n",
    "    Expected_risk=var_portfolio_return(elite[0])\n",
    "    print('Expected returns of {} with risk of {}\\n'.format(Expected_returns,Expected_risk))\n",
    "    iteration+=1\n",
    "    returns_list.append(Expected_returns)\n",
    "    risk_list.append(Expected_risk)\n",
    "\n",
    "\n",
    "print('Optimal Solution Reached or Number of Maximum Iterations Reached')"
   ]
  },
  {
   "cell_type": "code",
   "execution_count": 22,
   "id": "a4205e4f",
   "metadata": {},
   "outputs": [
    {
     "name": "stdout",
     "output_type": "stream",
     "text": [
      "Weight allotted to each stock under the constraints applied:\n",
      "\n",
      "MRF : 0.025296580594362062\n",
      "INFOSYS : 0.19346191392594053\n",
      "RELIANCE : 0.031241505479674223\n",
      "COAL : 0.2500000000000077\n",
      "SBI : 0.2500000000000077\n",
      "TITAN : 0.2500000000000077\n",
      "\n",
      "Expected returns of 17.376186163480327 % with risk of 0.0007435591145507469\n",
      " \n",
      "Fitness Function Value =  3.8162238398548913\n"
     ]
    },
    {
     "data": {
      "image/png": "[encoded data removed]",
      "text/plain": [
       "<Figure size 792x792 with 1 Axes>"
      ]
     },
     "metadata": {},
     "output_type": "display_data"
    },
    {
     "data": {
      "image/png": "[encoded data removed]",
      "text/plain": [
       "<Figure size 432x288 with 1 Axes>"
      ]
     },
     "metadata": {
      "needs_background": "light"
     },
     "output_type": "display_data"
    }
   ],
   "source": [
    "print('Weight allotted to each stock under the constraints applied:\\n')\n",
    "[print(hist_stock_returns.columns[i],':',elite[0][i]) for i in list(range(6))]\n",
    "\n",
    "print('\\nExpected returns of {} % with risk of {}\\n '.format(Expected_returns*100,Expected_risk))\n",
    "\n",
    "print(\"Fitness Function Value = \", + fitness_fuction(elite[5]))\n",
    "\n",
    "plt.figure(figsize = (11,11))\n",
    "plt.pie(elite[0], labels = hist_stock_returns.columns, normalize = False)\n",
    "plt.legend()\n",
    "plt.show()\n",
    "\n",
    "plt.scatter(risk_list, returns_list)\n",
    "plt.ylabel('Expected Returns')\n",
    "plt.xlabel('Expected Risk')\n",
    "plt.title('Portfolio Optimization')\n",
    "plt.show()"
   ]
  },
  {
   "cell_type": "markdown",
   "id": "53eb0c43",
   "metadata": {},
   "source": [
    "### Comparision with MPT:"
   ]
  },
  {
   "cell_type": "code",
   "execution_count": 23,
   "id": "ef38b4d0",
   "metadata": {},
   "outputs": [],
   "source": [
    "covariance = cov_hist_return.to_numpy()"
   ]
  },
  {
   "cell_type": "code",
   "execution_count": 24,
   "id": "6f33230d",
   "metadata": {},
   "outputs": [
    {
     "data": {
      "text/plain": [
       "array([[ 0.        ,  0.04539296,  0.02791593,  0.02412731, -0.07907816,\n",
       "         0.01436192],\n",
       "       [ 0.04539296,  0.        , -0.00071845,  0.00438124, -0.02317835,\n",
       "        -0.0055536 ],\n",
       "       [ 0.02791593, -0.00071845,  0.        ,  0.00250974, -0.0138409 ,\n",
       "         0.00732976],\n",
       "       [ 0.02412731,  0.00438124,  0.00250974,  0.        , -0.01104228,\n",
       "         0.00569969],\n",
       "       [-0.07907816, -0.02317835, -0.0138409 , -0.01104228,  0.        ,\n",
       "        -0.00721078],\n",
       "       [ 0.01436192, -0.0055536 ,  0.00732976,  0.00569969, -0.00721078,\n",
       "         0.        ]])"
      ]
     },
     "execution_count": 24,
     "metadata": {},
     "output_type": "execute_result"
    }
   ],
   "source": [
    "covariance"
   ]
  },
  {
   "cell_type": "code",
   "execution_count": 25,
   "id": "99d9c0c3",
   "metadata": {},
   "outputs": [
    {
     "name": "stdout",
     "output_type": "stream",
     "text": [
      "Portfolio Expected Return: 8.833333333333332\n"
     ]
    },
    {
     "data": {
      "image/png": "[encoded data removed]",
      "text/plain": [
       "<Figure size 864x576 with 2 Axes>"
      ]
     },
     "metadata": {
      "needs_background": "light"
     },
     "output_type": "display_data"
    }
   ],
   "source": [
    "expected_returns = np.array([0.08, 0.12, 0.06, 0.09, 0.11, 0.07]) ### random returns\n",
    "portfolio_weights = np.ones(len(expected_returns))/len(expected_returns)\n",
    "portfolio_return = np.dot(expected_returns, portfolio_weights)\n",
    "portfolio_variance = np.dot(np.dot(portfolio_weights, covariance), portfolio_weights)\n",
    "\n",
    "print(\"Portfolio Expected Return:\", portfolio_return*100)\n",
    "\n",
    "num_portfolios = 10000\n",
    "portfolio_returns = np.zeros(num_portfolios)\n",
    "portfolio_variances = np.zeros(num_portfolios)\n",
    "\n",
    "for i in range(num_portfolios):\n",
    "    weights = np.random.random(len(expected_returns))\n",
    "    weights /= np.sum(weights)\n",
    "    \n",
    "    portfolio_returns[i] = np.dot(expected_returns, weights)\n",
    "    portfolio_variances[i] = np.sqrt(np.dot(np.dot((weights), abs(covariance)), (weights)))\n",
    "    \n",
    "plt.figure(figsize=(12,8))\n",
    "plt.scatter(portfolio_variances, portfolio_returns, c=portfolio_returns/portfolio_variances)\n",
    "plt.xlabel('Portfolio Volatility')\n",
    "plt.ylabel('Portfolio Expected Return')\n",
    "plt.colorbar(label='Sharpe Ratio')\n",
    "plt.title('Markowitz Bullet')\n",
    "plt.show()"
   ]
  },
  {
   "cell_type": "code",
   "execution_count": null,
   "id": "0f06a524",
   "metadata": {},
   "outputs": [],
   "source": []
  }
 ],
 "metadata": {
  "kernelspec": {
   "display_name": "Python 3",
   "language": "python",
   "name": "python3"
  },
  "language_info": {
   "codemirror_mode": {
    "name": "ipython",
    "version": 3
   },
   "file_extension": ".py",
   "mimetype": "text/x-python",
   "name": "python",
   "nbconvert_exporter": "python",
   "pygments_lexer": "ipython3",
   "version": "3.8.8"
  }
 },
 "nbformat": 4,
 "nbformat_minor": 5
}
